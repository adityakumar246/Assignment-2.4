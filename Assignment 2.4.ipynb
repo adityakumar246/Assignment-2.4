{
 "cells": [
  {
   "cell_type": "markdown",
   "metadata": {},
   "source": [
    "QUESTION"
   ]
  },
  {
   "cell_type": "code",
   "execution_count": null,
   "metadata": {},
   "outputs": [],
   "source": [
    "Problem Statement 1:\n",
    "Write a Python Program(with class concepts) to find the area of the triangle using the\n",
    "below formula.\n",
    "area = (s*(s-a)*(s-b)*(s-c)) ** 0.5\n",
    "Function to take the length of the sides of triangle from user should be defined in the\n",
    "parent class and function to calculate the area should be defined in subclass.\n",
    "\n",
    "Problem Statement 2:\n",
    "Write a function filter_long_words() that takes a list of words and an integer n and returns\n",
    "the list of words that are longer than n."
   ]
  },
  {
   "cell_type": "markdown",
   "metadata": {},
   "source": [
    "ANSWER"
   ]
  },
  {
   "cell_type": "code",
   "execution_count": 1,
   "metadata": {},
   "outputs": [
    {
     "name": "stdout",
     "output_type": "stream",
     "text": [
      "insert side a value : 2\n",
      "insert side b value : 3\n",
      "insert side c value : 4\n",
      "2.9047375096555625\n",
      "uvwxyzasawq\n",
      "uvwxyz\n"
     ]
    }
   ],
   "source": [
    "#2.4.1\n",
    "class tarea:\n",
    "    def init(self):\n",
    "        self.a = 0 \n",
    "        self.b = 0 \n",
    "        self.c = 0 \n",
    "    def insert_sides(self): \n",
    "        self.a = int(input(\"insert side a value : \")) \n",
    "        self.b = int(input(\"insert side b value : \")) \n",
    "        self.c = int(input(\"insert side c value : \"))\n",
    "\n",
    "class sarea(tarea): \n",
    "    def init(self): \n",
    "        tarea.init(self) \n",
    "    def area(self): \n",
    "        s = (self.a + self.b + self.c)/2 \n",
    "        return(s * (s-self.a) * (s-self.b) * (s-self.c)) ** 0.5\n",
    "\n",
    "xyz = sarea() \n",
    "xyz.insert_sides() \n",
    "print(xyz.area())\n",
    "\n",
    "#2.4.2 \n",
    "l7=[\"abc\",\"pqrst\",\"uvwxyzasawq\",\"lmnop\",\"uvwxyz\"] \n",
    "len1=5 \n",
    "for p in l7:\n",
    "    x=len(p) \n",
    "    if x>len1: \n",
    "        print(p)"
   ]
  }
 ],
 "metadata": {
  "kernelspec": {
   "display_name": "Python 3",
   "language": "python",
   "name": "python3"
  },
  "language_info": {
   "codemirror_mode": {
    "name": "ipython",
    "version": 3
   },
   "file_extension": ".py",
   "mimetype": "text/x-python",
   "name": "python",
   "nbconvert_exporter": "python",
   "pygments_lexer": "ipython3",
   "version": "3.6.6"
  }
 },
 "nbformat": 4,
 "nbformat_minor": 2
}
